{
 "cells": [
  {
   "cell_type": "markdown",
   "id": "3d056d18-a2d7-48d4-8af3-7a40df246298",
   "metadata": {},
   "source": [
    "# Data Science Tools and Ecosystem"
   ]
  },
  {
   "cell_type": "markdown",
   "id": "761b6604-1300-4d7c-ad91-d838462c712f",
   "metadata": {},
   "source": [
    "### Hello! In this notebook, Data Science Tools and Ecosystem are summarized."
   ]
  },
  {
   "cell_type": "markdown",
   "id": "fc26d564-88f9-4e60-a6e2-8bc8131dfbd2",
   "metadata": {},
   "source": [
    "# **Objectives**\n",
    "  \n",
    "- R\n",
    "- Python\n",
    "- SQl\n",
    "\n",
    "- Apache Spark\n",
    "- RStudio"
   ]
  },
  {
   "cell_type": "markdown",
   "id": "869cfc78-1e93-4fec-81d2-bcf79a75deb4",
   "metadata": {},
   "source": [
    "#### Some of the popular languages that Data Scientists use are:\n",
    "\n",
    "* Python\n",
    "* R\n",
    "* SQL\n",
    "* Julia"
   ]
  },
  {
   "cell_type": "markdown",
   "id": "4e749cc6-e280-46d3-a1a6-7f8c41f5bcd2",
   "metadata": {},
   "source": [
    "### Some of the commonly used libraries used by Data Scientists include:\n",
    "\n",
    "- Apache Spark\n",
    "- RStudio\n",
    "- TensorFlow\n",
    "- Pandas"
   ]
  },
  {
   "cell_type": "markdown",
   "id": "1ebdad79-5691-4201-9b90-1bb37f400016",
   "metadata": {},
   "source": [
    "# Data Science Tools #\n",
    "\n",
    "- RStudio\n",
    "- Visual Studio\n",
    "- \n",
    "Apache Spark"
   ]
  },
  {
   "cell_type": "markdown",
   "id": "04178ca3-0076-44bd-993b-45ea36075ef4",
   "metadata": {},
   "source": [
    "### Below are a few examples of evaluating arithmetic expressions in Python\n",
    "\n",
    "-5 ** -3 = ?\n",
    "\n",
    "12 / 2 = ?\n",
    "\n",
    "24 + 24 \n"
   ]
  },
  {
   "cell_type": "code",
   "execution_count": 14,
   "id": "e6d45614-7b2d-4a98-8ef1-ca47cd8b4424",
   "metadata": {},
   "outputs": [
    {
     "data": {
      "text/plain": [
       "17"
      ]
     },
     "execution_count": 14,
     "metadata": {},
     "output_type": "execute_result"
    }
   ],
   "source": [
    "\"This a simple arithmetic expression to multiply and then add integers\"\n",
    "(3*4)+5"
   ]
  },
  {
   "cell_type": "code",
   "execution_count": 22,
   "id": "22ac4432-e7bb-4a92-8b6c-3de93a3496a8",
   "metadata": {},
   "outputs": [
    {
     "data": {
      "text/plain": [
       "3.3333333333333335"
      ]
     },
     "execution_count": 22,
     "metadata": {},
     "output_type": "execute_result"
    }
   ],
   "source": [
    "\"This will convert 200 minutes to hours by diving by 60\"\n",
    "\n",
    "200 / 60"
   ]
  },
  {
   "cell_type": "markdown",
   "id": "63eef7a0-9bf7-42b4-8ac7-15ac83c14d31",
   "metadata": {},
   "source": [
    "## Author \n",
    "\n",
    "**Andrés Romero**"
   ]
  },
  {
   "cell_type": "code",
   "execution_count": null,
   "id": "b63b3748-051c-4607-9f61-cbc48cc8a5bc",
   "metadata": {},
   "outputs": [],
   "source": []
  }
 ],
 "metadata": {
  "kernelspec": {
   "display_name": "Python 3 (ipykernel)",
   "language": "python",
   "name": "python3"
  },
  "language_info": {
   "codemirror_mode": {
    "name": "ipython",
    "version": 3
   },
   "file_extension": ".py",
   "mimetype": "text/x-python",
   "name": "python",
   "nbconvert_exporter": "python",
   "pygments_lexer": "ipython3",
   "version": "3.11.7"
  }
 },
 "nbformat": 4,
 "nbformat_minor": 5
}
